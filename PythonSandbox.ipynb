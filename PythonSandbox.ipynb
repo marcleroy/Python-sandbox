{
 "cells": [
  {
   "cell_type": "markdown",
   "metadata": {},
   "source": [
    "My Python tests"
   ]
  },
  {
   "cell_type": "code",
   "execution_count": 1,
   "metadata": {},
   "outputs": [
    {
     "name": "stdout",
     "output_type": "stream",
     "text": [
      "10\n"
     ]
    }
   ],
   "source": [
    "a = 10\n",
    "print(a)"
   ]
  },
  {
   "cell_type": "code",
   "execution_count": null,
   "metadata": {},
   "outputs": [],
   "source": [
    "import time, sys\n",
    "\n",
    "for i in range(8):\n",
    "    print(i, end=' ')\n",
    "    time.sleep(0.5)"
   ]
  },
  {
   "cell_type": "code",
   "execution_count": null,
   "metadata": {},
   "outputs": [],
   "source": [
    "import os\n",
    "import re\n",
    "import glob\n",
    "import sys\n",
    "\n",
    "\n",
    "def fast_solution(A, B, m):\n",
    "    n = len(A)\n",
    "    sum_a = sum(A)\n",
    "    sum_b = sum(B)\n",
    "    d = sum_b - sum_a\n",
    "    if d % 2 == 1:\n",
    "        return False\n",
    "    d //= 2\n",
    "    count = count(A, m)\n",
    "    for i in range(n):\n",
    "        if 0 <= B[i] - d and B[i] - d <= m and count[B[i] - d] > 0:\n",
    "            return True\n",
    "    return False\n",
    "    "
   ]
  },
  {
   "cell_type": "markdown",
   "metadata": {},
   "source": [
    "Test range"
   ]
  },
  {
   "cell_type": "code",
   "execution_count": null,
   "metadata": {},
   "outputs": [],
   "source": [
    "# Print 7, 5, 3 and 1 '*'\n",
    "n=4\n",
    "for i in range(n, 0, -1):\n",
    "    for j in range(n - i):\n",
    "        print (' ', end=''),\n",
    "    for j in range(2 * i - 1):\n",
    "        print ('*', end=''),\n",
    "    print()"
   ]
  },
  {
   "cell_type": "code",
   "execution_count": null,
   "metadata": {},
   "outputs": [],
   "source": [
    "days = set(['Monday', 'Tuesday', 'Wednesday', 'Thursday', 'Friday', 'Saturday', 'Sunday'])\n",
    "#reordering\n",
    "days = ['Monday', 'Tuesday', 'Wednesday', 'Thursday', 'Friday', 'Saturday', 'Sunday']\n",
    "for day in days:\n",
    "    print(day)\n"
   ]
  },
  {
   "cell_type": "markdown",
   "metadata": {},
   "source": [
    "Fibonacci numbers to 100"
   ]
  },
  {
   "cell_type": "code",
   "execution_count": null,
   "metadata": {},
   "outputs": [],
   "source": [
    "n = 100\n",
    "a = 0\n",
    "b = 1\n",
    "while (a <= n):\n",
    "    print(a, end=', ')\n",
    "    c = a + b\n",
    "    a = b\n",
    "    b = c\n",
    "\n"
   ]
  },
  {
   "cell_type": "markdown",
   "metadata": {},
   "source": [
    "Reversing array"
   ]
  },
  {
   "cell_type": "code",
   "execution_count": null,
   "metadata": {},
   "outputs": [],
   "source": [
    "\n",
    "def reverse(A):\n",
    "    N = len(A)\n",
    "    for i in range(N // 2):\n",
    "        k = N - i - 1\n",
    "        A[i], A[k] = A[k], A[i]\n",
    "    return A\n",
    "    \n",
    "A = [1,2,3,4,5,6]\n",
    "reverse(A)\n",
    "print(A)\n",
    "B = [1,2,3]\n",
    "reverse(B)\n",
    "print(B)"
   ]
  },
  {
   "cell_type": "markdown",
   "metadata": {},
   "source": [
    "Sum of n integer for 1 to n"
   ]
  },
  {
   "cell_type": "code",
   "execution_count": null,
   "metadata": {},
   "outputs": [],
   "source": [
    "def solution_2(n):\n",
    "    result = 0\n",
    "    for i in range(n):\n",
    "        result += (i + 1)\n",
    "    # for i in range(1, n, 1):\n",
    "    #     result += i # (i + 1)\n",
    "    # result += n\n",
    "    return result\n",
    "\n",
    "def best_solution(n):\n",
    "    result = n * (n + 1) // 2\n",
    "    return result\n",
    "\n",
    "n = 500\n",
    "r = solution_2(n)\n",
    "r2 = best_solution(n)\n",
    "print('The sum of the ' + str(n) + ' first is ' + str(r) + ' - ' + str(r2))\n"
   ]
  },
  {
   "cell_type": "markdown",
   "metadata": {},
   "source": [
    "PermMissingElem\n",
    "Find the missing element in a given permutation."
   ]
  },
  {
   "cell_type": "code",
   "execution_count": null,
   "metadata": {},
   "outputs": [],
   "source": [
    "# Ordering the array and compare each elements to the index\n",
    "\n",
    "def solution(A):\n",
    "    l = len(A)\n",
    "    if (l < 1):\n",
    "        return 1\n",
    "    A.sort()\n",
    "    for i in range(l):\n",
    "        if(i + 1 != A[i]):\n",
    "            return i + 1\n",
    "    return l + 1\n",
    "\n",
    "A=[9,8,7,4,1,2,5,6]\n",
    "A=[1]\n",
    "#A=[]\n",
    "r = solution(A)\n",
    "print('The first missing int in array is ' + str(r))"
   ]
  },
  {
   "cell_type": "markdown",
   "metadata": {},
   "source": [
    "#"
   ]
  },
  {
   "cell_type": "code",
   "execution_count": 2,
   "metadata": {},
   "outputs": [
    {
     "name": "stdout",
     "output_type": "stream",
     "text": [
      "The unsorted list is:  [5, 3, 8, 6, 7, 2]\n",
      "The sorted list is:  [2, 3, 5, 6, 7, 8]\n"
     ]
    }
   ],
   "source": [
    "# Creating a bubble sort function  \n",
    "def bubble_sort(list1):  \n",
    "    # Outer loop for traverse the entire list  \n",
    "    for i in range(0,len(list1)-1):  \n",
    "        for j in range(len(list1)-1):  \n",
    "            if(list1[j]>list1[j+1]):  \n",
    "                temp = list1[j]  \n",
    "                list1[j] = list1[j+1]  \n",
    "                list1[j+1] = temp  \n",
    "    return list1  \n",
    "  \n",
    "list1 = [5, 3, 8, 6, 7, 2]  \n",
    "print(\"The unsorted list is: \", list1)  \n",
    "# Calling the bubble sort function  \n",
    "print(\"The sorted list is: \", bubble_sort(list1))"
   ]
  },
  {
   "cell_type": "code",
   "execution_count": 4,
   "metadata": {},
   "outputs": [
    {
     "name": "stdout",
     "output_type": "stream",
     "text": [
      "Given array is\n",
      "12 11 13 5 6 7 \n",
      "\n",
      "Sorted array is \n",
      "5 6 7 11 12 13 \n"
     ]
    }
   ],
   "source": [
    "# Python program for implementation of MergeSort\n",
    " \n",
    " \n",
    "def mergeSort(arr):\n",
    "    if len(arr) > 1:\n",
    " \n",
    "         # Finding the mid of the array\n",
    "        mid = len(arr)//2\n",
    " \n",
    "        # Dividing the array elements\n",
    "        L = arr[:mid]\n",
    " \n",
    "        # Into 2 halves\n",
    "        R = arr[mid:]\n",
    " \n",
    "        # Sorting the first half\n",
    "        mergeSort(L)\n",
    " \n",
    "        # Sorting the second half\n",
    "        mergeSort(R)\n",
    " \n",
    "        i = j = k = 0\n",
    " \n",
    "        # Copy data to temp arrays L[] and R[]\n",
    "        while i < len(L) and j < len(R):\n",
    "            if L[i] <= R[j]:\n",
    "                arr[k] = L[i]\n",
    "                i += 1\n",
    "            else:\n",
    "                arr[k] = R[j]\n",
    "                j += 1\n",
    "            k += 1\n",
    " \n",
    "        # Checking if any element was left\n",
    "        while i < len(L):\n",
    "            arr[k] = L[i]\n",
    "            i += 1\n",
    "            k += 1\n",
    " \n",
    "        while j < len(R):\n",
    "            arr[k] = R[j]\n",
    "            j += 1\n",
    "            k += 1\n",
    " \n",
    " \n",
    "# Code to print the list\n",
    "def printList(arr):\n",
    "    for i in range(len(arr)):\n",
    "        print(arr[i], end=\" \")\n",
    "    print()\n",
    " \n",
    " \n",
    "# Driver Code\n",
    "#if __name__ == '__main__':\n",
    "arr = [12, 11, 13, 5, 6, 7]\n",
    "print(\"Given array is\")\n",
    "printList(arr)\n",
    "mergeSort(arr)\n",
    "print(\"\\nSorted array is \")\n",
    "printList(arr)\n",
    " \n",
    "# This code is contributed by Mayank Khanna"
   ]
  },
  {
   "cell_type": "code",
   "execution_count": 3,
   "metadata": {},
   "outputs": [
    {
     "name": "stdout",
     "output_type": "stream",
     "text": [
      "Unsorted Array\n",
      "[1, 7, 4, 1, 10, 9, -2]\n",
      "Sorted Array in Ascending Order:\n",
      "[-2, 1, 1, 4, 7, 9, 10]\n"
     ]
    }
   ],
   "source": [
    "\n",
    "\n",
    "# Python program for implementation of Quicksort Sort\n",
    " \n",
    "# This implementation utilizes pivot as the last element in the nums list\n",
    "# It has a pointer to keep track of the elements smaller than the pivot\n",
    "# At the very end of partition() function, the pointer is swapped with the pivot\n",
    "# to come up with a \"sorted\" nums relative to the pivot\n",
    " \n",
    " \n",
    "# Function to find the partition position\n",
    "def partition(array, low, high):\n",
    " \n",
    "    # choose the rightmost element as pivot\n",
    "    pivot = array[high]\n",
    " \n",
    "    # pointer for greater element\n",
    "    i = low - 1\n",
    " \n",
    "    # traverse through all elements\n",
    "    # compare each element with pivot\n",
    "    for j in range(low, high):\n",
    "        if array[j] <= pivot:\n",
    " \n",
    "            # If element smaller than pivot is found\n",
    "            # swap it with the greater element pointed by i\n",
    "            i = i + 1\n",
    " \n",
    "            # Swapping element at i with element at j\n",
    "            (array[i], array[j]) = (array[j], array[i])\n",
    " \n",
    "    # Swap the pivot element with the greater element specified by i\n",
    "    (array[i + 1], array[high]) = (array[high], array[i + 1])\n",
    " \n",
    "    # Return the position from where partition is done\n",
    "    return i + 1\n",
    " \n",
    "# function to perform quicksort\n",
    "def quickSort(array, low, high):\n",
    "    if low < high:\n",
    " \n",
    "        # Find pivot element such that\n",
    "        # element smaller than pivot are on the left\n",
    "        # element greater than pivot are on the right\n",
    "        pi = partition(array, low, high)\n",
    " \n",
    "        # Recursive call on the left of pivot\n",
    "        quickSort(array, low, pi - 1)\n",
    " \n",
    "        # Recursive call on the right of pivot\n",
    "        quickSort(array, pi + 1, high)\n",
    " \n",
    " \n",
    "data = [1, 7, 4, 1, 10, 9, -2]\n",
    "print(\"Unsorted Array\")\n",
    "print(data)\n",
    " \n",
    "size = len(data)\n",
    " \n",
    "quickSort(data, 0, size - 1)\n",
    " \n",
    "print('Sorted Array in Ascending Order:')\n",
    "print(data)"
   ]
  },
  {
   "cell_type": "markdown",
   "metadata": {},
   "source": [
    "Here we have example of mathematics formulas\n",
    "https://jupyter-notebook.readthedocs.io/en/latest/examples/Notebook/Typesetting%20Equations.html"
   ]
  },
  {
   "cell_type": "markdown",
   "metadata": {},
   "source": [
    "\\begin{equation*}\n",
    "\\left( \\sum_{k=1}^n a_k b_k \\right)^2 \\leq \\left( \\sum_{k=1}^n a_k^2 \\right) \\left( \\sum_{k=1}^n b_k^2 \\right)\n",
    "\\end{equation*}"
   ]
  },
  {
   "cell_type": "markdown",
   "metadata": {},
   "source": [
    "\\begin{equation*}\n",
    "\\mathbf{V}_1 \\times \\mathbf{V}_2 =  \\begin{vmatrix}\n",
    "\\mathbf{i} & \\mathbf{j} & \\mathbf{k} \\\\\n",
    "\\frac{\\partial X}{\\partial u} &  \\frac{\\partial Y}{\\partial u} & 0 \\\\\n",
    "\\frac{\\partial X}{\\partial v} &  \\frac{\\partial Y}{\\partial v} & 0\n",
    "\\end{vmatrix}\n",
    "\\end{equation*}"
   ]
  }
 ],
 "metadata": {
  "kernelspec": {
   "display_name": "Python 3",
   "language": "python",
   "name": "python3"
  },
  "language_info": {
   "codemirror_mode": {
    "name": "ipython",
    "version": 3
   },
   "file_extension": ".py",
   "mimetype": "text/x-python",
   "name": "python",
   "nbconvert_exporter": "python",
   "pygments_lexer": "ipython3",
   "version": "3.12.0"
  }
 },
 "nbformat": 4,
 "nbformat_minor": 2
}
