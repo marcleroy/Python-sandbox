{
 "cells": [
  {
   "cell_type": "markdown",
   "metadata": {},
   "source": [
    "My Python tests"
   ]
  },
  {
   "cell_type": "code",
   "execution_count": 5,
   "metadata": {},
   "outputs": [
    {
     "name": "stdout",
     "output_type": "stream",
     "text": [
      "10\n"
     ]
    }
   ],
   "source": [
    "a = 10\n",
    "print(a)"
   ]
  },
  {
   "cell_type": "code",
   "execution_count": 2,
   "metadata": {},
   "outputs": [
    {
     "name": "stdout",
     "output_type": "stream",
     "text": [
      "0 1 2 3 4 5 6 7 "
     ]
    }
   ],
   "source": [
    "import time, sys\n",
    "\n",
    "for i in range(8):\n",
    "    print(i, end=' ')\n",
    "    time.sleep(0.5)"
   ]
  },
  {
   "cell_type": "code",
   "execution_count": 4,
   "metadata": {},
   "outputs": [],
   "source": [
    "import os\n",
    "import re\n",
    "import glob\n",
    "import sys\n",
    "\n",
    "\n",
    "def fast_solution(A, B, m):\n",
    "    n = len(A)\n",
    "    sum_a = sum(A)\n",
    "    sum_b = sum(B)\n",
    "    d = sum_b - sum_a\n",
    "    if d % 2 == 1:\n",
    "        return False\n",
    "    d //= 2\n",
    "    count = count(A, m)\n",
    "    for i in range(n):\n",
    "        if 0 <= B[i] - d and B[i] - d <= m and count[B[i] - d] > 0:\n",
    "            return True\n",
    "    return False\n",
    "    "
   ]
  },
  {
   "cell_type": "markdown",
   "metadata": {},
   "source": [
    "Test range"
   ]
  },
  {
   "cell_type": "code",
   "execution_count": 11,
   "metadata": {},
   "outputs": [
    {
     "name": "stdout",
     "output_type": "stream",
     "text": [
      "*******\n",
      " *****\n",
      "  ***\n",
      "   *\n"
     ]
    }
   ],
   "source": [
    "# Print 7, 5, 3 and 1 '*'\n",
    "n=4\n",
    "for i in range(n, 0, -1):\n",
    "    for j in range(n - i):\n",
    "        print (' ', end=''),\n",
    "    for j in range(2 * i - 1):\n",
    "        print ('*', end=''),\n",
    "    print()"
   ]
  },
  {
   "cell_type": "code",
   "execution_count": 8,
   "metadata": {},
   "outputs": [
    {
     "name": "stdout",
     "output_type": "stream",
     "text": [
      "Monday\n",
      "Tuesday\n",
      "Wednesday\n",
      "Thursday\n",
      "Friday\n",
      "Saturday\n",
      "Sunday\n"
     ]
    }
   ],
   "source": [
    "days = set(['Monday', 'Tuesday', 'Wednesday', 'Thursday', 'Friday', 'Saturday', 'Sunday'])\n",
    "#reordering\n",
    "days = ['Monday', 'Tuesday', 'Wednesday', 'Thursday', 'Friday', 'Saturday', 'Sunday']\n",
    "for day in days:\n",
    "    print(day)\n"
   ]
  },
  {
   "cell_type": "markdown",
   "metadata": {},
   "source": [
    "Fibonacci numbers to 100"
   ]
  },
  {
   "cell_type": "code",
   "execution_count": 15,
   "metadata": {},
   "outputs": [
    {
     "name": "stdout",
     "output_type": "stream",
     "text": [
      "0, 1, 1, 2, 3, 5, 8, 13, 21, 34, 55, 89, "
     ]
    }
   ],
   "source": [
    "n = 100\n",
    "a = 0\n",
    "b = 1\n",
    "while (a <= n):\n",
    "    print(a, end=', ')\n",
    "    c = a + b\n",
    "    a = b\n",
    "    b = c\n",
    "\n"
   ]
  },
  {
   "cell_type": "markdown",
   "metadata": {},
   "source": [
    "Reversing array"
   ]
  },
  {
   "cell_type": "code",
   "execution_count": 23,
   "metadata": {},
   "outputs": [
    {
     "name": "stdout",
     "output_type": "stream",
     "text": [
      "[6, 5, 4, 3, 2, 1]\n",
      "[1]\n"
     ]
    }
   ],
   "source": [
    "\n",
    "def reverse(A):\n",
    "    N = len(A)\n",
    "    for i in range(N // 2):\n",
    "        k = N - i - 1\n",
    "        A[i], A[k] = A[k], A[i]\n",
    "    return A\n",
    "    \n",
    "A = [1,2,3,4,5,6]\n",
    "reverse(A)\n",
    "print(A)\n",
    "B = [1,2,3]\n",
    "reverse(B)\n",
    "print(B)"
   ]
  },
  {
   "cell_type": "markdown",
   "metadata": {},
   "source": [
    "Sum of n integer for 1 to n"
   ]
  },
  {
   "cell_type": "code",
   "execution_count": 30,
   "metadata": {},
   "outputs": [
    {
     "name": "stdout",
     "output_type": "stream",
     "text": [
      "The sum of the 500 first is 125250 - 125250\n"
     ]
    }
   ],
   "source": [
    "def solution_2(n):\n",
    "    result = 0\n",
    "    for i in range(n):\n",
    "        result += (i + 1)\n",
    "    # for i in range(1, n, 1):\n",
    "    #     result += i # (i + 1)\n",
    "    # result += n\n",
    "    return result\n",
    "\n",
    "def best_solution(n):\n",
    "    result = n * (n + 1) // 2\n",
    "    return result\n",
    "\n",
    "n = 500\n",
    "r = solution_2(n)\n",
    "r2 = best_solution(n)\n",
    "print('The sum of the ' + str(n) + ' first is ' + str(r) + ' - ' + str(r2))\n"
   ]
  },
  {
   "cell_type": "markdown",
   "metadata": {},
   "source": [
    "PermMissingElem\n",
    "Find the missing element in a given permutation."
   ]
  },
  {
   "cell_type": "code",
   "execution_count": 50,
   "metadata": {},
   "outputs": [
    {
     "name": "stdout",
     "output_type": "stream",
     "text": [
      "The first missing int in array is 2\n"
     ]
    }
   ],
   "source": [
    "# Ordering the array and compare each elements to the index\n",
    "\n",
    "def solution(A):\n",
    "    l = len(A)\n",
    "    if (l < 1):\n",
    "        return 1\n",
    "    A.sort()\n",
    "    for i in range(l):\n",
    "        if(i + 1 != A[i]):\n",
    "            return i + 1\n",
    "    return l + 1\n",
    "\n",
    "A=[9,8,7,4,1,2,5,6]\n",
    "A=[1]\n",
    "#A=[]\n",
    "r = solution(A)\n",
    "print('The first missing int in array is ' + str(r))"
   ]
  },
  {
   "cell_type": "markdown",
   "metadata": {},
   "source": [
    "#"
   ]
  },
  {
   "cell_type": "code",
   "execution_count": null,
   "metadata": {},
   "outputs": [],
   "source": []
  },
  {
   "cell_type": "markdown",
   "metadata": {},
   "source": [
    "Here we have example of mathematics formulas\n",
    "https://jupyter-notebook.readthedocs.io/en/latest/examples/Notebook/Typesetting%20Equations.html"
   ]
  },
  {
   "cell_type": "markdown",
   "metadata": {},
   "source": [
    "\\begin{equation*}\n",
    "\\left( \\sum_{k=1}^n a_k b_k \\right)^2 \\leq \\left( \\sum_{k=1}^n a_k^2 \\right) \\left( \\sum_{k=1}^n b_k^2 \\right)\n",
    "\\end{equation*}"
   ]
  },
  {
   "cell_type": "markdown",
   "metadata": {},
   "source": [
    "\\begin{equation*}\n",
    "\\mathbf{V}_1 \\times \\mathbf{V}_2 =  \\begin{vmatrix}\n",
    "\\mathbf{i} & \\mathbf{j} & \\mathbf{k} \\\\\n",
    "\\frac{\\partial X}{\\partial u} &  \\frac{\\partial Y}{\\partial u} & 0 \\\\\n",
    "\\frac{\\partial X}{\\partial v} &  \\frac{\\partial Y}{\\partial v} & 0\n",
    "\\end{vmatrix}\n",
    "\\end{equation*}"
   ]
  }
 ],
 "metadata": {
  "kernelspec": {
   "display_name": "Python 3 (ipykernel)",
   "language": "python",
   "name": "python3"
  },
  "language_info": {
   "codemirror_mode": {
    "name": "ipython",
    "version": 3
   },
   "file_extension": ".py",
   "mimetype": "text/x-python",
   "name": "python",
   "nbconvert_exporter": "python",
   "pygments_lexer": "ipython3",
   "version": "3.11.5"
  }
 },
 "nbformat": 4,
 "nbformat_minor": 2
}
